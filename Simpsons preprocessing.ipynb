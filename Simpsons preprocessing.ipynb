{
 "cells": [
  {
   "cell_type": "code",
   "execution_count": 1,
   "id": "e6d40ab6-abcc-4e2c-8d98-f14bba721b9f",
   "metadata": {},
   "outputs": [],
   "source": [
    "import os\n",
    "import matplotlib.pyplot as plt\n",
    "import numpy as np\n",
    "import pandas as pd\n",
    "import seaborn as sns\n",
    "from pprint import pprint\n",
    "from PIL import Image\n",
    "import glob\n",
    "import scipy.misc\n",
    "import imageio\n",
    "from skimage.transform import resize\n",
    "import tensorflow as tf\n",
    "import keras\n",
    "\n",
    "import h5py, itertools, collections\n",
    "import cv2\n",
    "import matplotlib.pyplot as plt\n",
    "from sklearn.model_selection import train_test_split\n",
    "from tensorflow.keras.preprocessing.image import ImageDataGenerator, DirectoryIterator"
   ]
  },
  {
   "cell_type": "code",
   "execution_count": null,
   "id": "9274c45e-21d4-4164-8e21-78c51e5f5f6e",
   "metadata": {},
   "outputs": [],
   "source": [
    "image_size = (256, 256)\n",
    "batch_size = 32\n",
    "\n",
    "image_generator = ImageDataGenerator(\n",
    "        rotation_range=10,\n",
    "        width_shift_range=0.1,\n",
    "        height_shift_range=0.1,\n",
    "        shear_range=0.1, \n",
    "        zoom_range=0.2,\n",
    "        validation_split=0.1,\n",
    "        rescale = 1/255.0)\n",
    "\n",
    "train_ds =  DirectoryIterator(\n",
    "    #\"폴더 위치\",\n",
    "    image_generator,\n",
    "    class_mode='categorical',\n",
    "    seed=1337,\n",
    "    target_size=image_size,\n",
    "    batch_size=batch_size,\n",
    "    subset = 'training',)\n",
    "\n",
    "val_ds = DirectoryIterator(\n",
    "    #\"폴더 위치\",\n",
    "    image_generator,\n",
    "    class_mode='categorical',\n",
    "    seed=1337,\n",
    "    target_size=image_size,\n",
    "    batch_size=batch_size,\n",
    "    subset = 'validation',\n",
    "    shuffle=False)\n",
    "# 케릭터 이름\n",
    "class_names = list(train_ds.class_indices.keys())\n",
    "\n",
    "# 케릭터 레이블\n",
    "num_classes = train_ds.num_classes"
   ]
  },
  {
   "cell_type": "code",
   "execution_count": null,
   "id": "efbf0d4c-216e-4c9d-9d13-21969808e172",
   "metadata": {},
   "outputs": [],
   "source": [
    "#시각화\n",
    "plt.figure(figsize=(20, 16))\n",
    "images = []\n",
    "labels = []\n",
    "for itr in train_ds.next():\n",
    "    for i in range(30):\n",
    "        if len(images) < 30:\n",
    "            images.append(itr[i].astype(\"float32\"))\n",
    "        else:\n",
    "            labels.append(list(itr[i]).index(1))\n",
    "\n",
    "for i in range(len(images)):\n",
    "    ax = plt.subplot(5, 6, i + 1)\n",
    "    plt.imshow(images[i])\n",
    "    plt.title(class_names[labels[i]].replace('_',' ') +' ('+str(int(labels[i]))+')')\n",
    "    plt.axis(\"off\")"
   ]
  },
  {
   "cell_type": "code",
   "execution_count": null,
   "id": "b30ea527-83e9-4d60-b59f-2f922ec45764",
   "metadata": {},
   "outputs": [],
   "source": [
    "#Keras 몬델 로딩\n",
    "conv_base = tf.keras.applications.DenseNet121(weights='imagenet', include_top=False)"
   ]
  },
  {
   "cell_type": "code",
   "execution_count": null,
   "id": "58e68edd-306c-4789-acc7-35f4c22f2518",
   "metadata": {},
   "outputs": [],
   "source": [
    "from tensorflow.keras.layers import Dense, GlobalAveragePooling2D, Activation\n",
    "from tensorflow.keras.optimizers import Adam\n",
    "from keras import layers\n",
    "\n",
    "optimizers = Adam(learning_rate=0.0001)\n",
    "inputs = keras.Input(shape=image_size + (3,))\n",
    "x = inputs\n",
    "\n",
    "\n",
    "x = conv_base(x)\n",
    "x = GlobalAveragePooling2D()(x)\n",
    "\n",
    "#x = layers.Flatten()(x)\n",
    "#x = layers.Dropout(0.7)(x)\n",
    "\n",
    "\n",
    "x = Dense(1024, activation='relu')(x)\n",
    "x = layers.Dropout(0.7)(x)\n",
    "x = Dense(9)(x)\n",
    "outputs = Activation(activation='softmax')(x)\n",
    "model = keras.Model(inputs, outputs)\n",
    "\n",
    "\n",
    "model.compile(optimizer=optimizers,\n",
    "              loss='CategoricalCrossentropy',\n",
    "              metrics=['accuracy'])\n",
    "\n",
    "model.summary()"
   ]
  },
  {
   "cell_type": "code",
   "execution_count": null,
   "id": "8833fc94-a1d8-4d1c-942d-d1e268c8fa04",
   "metadata": {},
   "outputs": [],
   "source": [
    "conv_base.trainable = True"
   ]
  },
  {
   "cell_type": "code",
   "execution_count": null,
   "id": "abadfa38-aaa6-4e83-9635-31c71d472be4",
   "metadata": {},
   "outputs": [],
   "source": [
    "history = model.fit(\n",
    "  train_ds,\n",
    "  epochs=50,\n",
    "  validation_data=val_ds,\n",
    "  )"
   ]
  },
  {
   "cell_type": "code",
   "execution_count": null,
   "id": "df948f6c-2e44-4cca-a6d4-b4e009925700",
   "metadata": {},
   "outputs": [],
   "source": [
    "fig = plt.figure()\n",
    "ax = fig.add_subplot(1, 1, 1)\n",
    "\n",
    "epochs = [i+1 for i in range(len(history.history['loss']))]\n",
    "ax.plot(history.history['loss'], label='loss')\n",
    "ax.plot(history.history['val_loss'], label='val_loss')\n",
    "plt.legend()\n",
    "plt.show()"
   ]
  },
  {
   "cell_type": "code",
   "execution_count": null,
   "id": "63b3a269-aac2-4786-95e4-05ac3d3e8710",
   "metadata": {},
   "outputs": [],
   "source": [
    "fig = plt.figure()\n",
    "ax = fig.add_subplot(1, 1, 1)\n",
    "\n",
    "epochs = [i+1 for i in range(len(history.history['accuracy']))]\n",
    "ax.plot(history.history['accuracy'], label='acc')\n",
    "ax.plot(history.history['val_accuracy'], label='val_acc')\n",
    "plt.legend()\n",
    "plt.show()"
   ]
  }
 ],
 "metadata": {
  "kernelspec": {
   "display_name": "Python 3",
   "language": "python",
   "name": "python3"
  },
  "language_info": {
   "codemirror_mode": {
    "name": "ipython",
    "version": 3
   },
   "file_extension": ".py",
   "mimetype": "text/x-python",
   "name": "python",
   "nbconvert_exporter": "python",
   "pygments_lexer": "ipython3",
   "version": "3.8.8"
  }
 },
 "nbformat": 4,
 "nbformat_minor": 5
}
